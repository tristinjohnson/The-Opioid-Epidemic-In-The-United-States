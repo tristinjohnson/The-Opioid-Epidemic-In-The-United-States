{
 "cells": [
  {
   "cell_type": "markdown",
   "metadata": {},
   "source": [
    "# The Opioid Epidemic In The United States"
   ]
  },
  {
   "cell_type": "markdown",
   "metadata": {},
   "source": [
    "DATS 6103 - Individual Project 2 - Tristin Johnson"
   ]
  },
  {
   "cell_type": "markdown",
   "metadata": {},
   "source": [
    "# I. Introduction"
   ]
  },
  {
   "cell_type": "markdown",
   "metadata": {},
   "source": [
    "Today, I will be doing a complete analysis about the opioid epidemic across the United States of America from 1999-2018. Throughout this presentation, I will be covering various analytics across several factors regarding the opioid epidemic in the United States, which include total deaths by opioids, the specific total deaths by opioid, the gender figures in absolute and relative figures, the youth deaths by opioids, the rate of deaths by demographic, and finally comparing the deaths due to opioid by race with the average household income by race.  "
   ]
  },
  {
   "cell_type": "markdown",
   "metadata": {},
   "source": [
    "Listed below, are the major opioid groups in which caused the overdose of a person. These opioids are classified into an International Classification of Diseases (ICD-10 Codes, created by the CDC), in which an ICD-10 code is written on a persons death certificate which coordinates to the cause of death. There are thousands of ICD-10 codes, but there are a few that correlate to different opioids. As seen below, is the listed ICD-10 codes of what opioids I will be analyzing, which classification that codes fall under, and the list of drugs that make up these opioid groups. "
   ]
  },
  {
   "cell_type": "markdown",
   "metadata": {},
   "source": [
    "The ICD-10 Codes Corresponding to Opioids:\n",
    "\n",
    "1. Heroin -> T40.1 (heroin)\n",
    "2. Prescription Opioids -> T40.2-T40.3 (oxycodone, hydrocodone, morphine, codeine, hydromorphone, methadone)\n",
    "3. Syntheitc Narcotics -> T40.4 (fentanyl, tramadol)\n",
    "4. Cocaine -> T40.5 (cocaine)\n",
    "5. Psychostimulants -> T43.6 (methamphetamine, amphetamine, dextroamphetamine, hydrochloride, methylphenidate)\n",
    "6. Benzodiazepines -> T42.4 (alprazolam, lorazepan, vallium, librium, klonopin)\n",
    "7. Antidepressants -> T43.0-T43.2 (sertraline, citalopram, fluoxetine, paroxetine)\n"
   ]
  },
  {
   "cell_type": "code",
   "execution_count": null,
   "metadata": {},
   "outputs": [],
   "source": [
    "#import pandas for data frame, matplotlib for plotting, and various plotly libraries for different\n",
    "#types of plots/customization\n",
    "import pandas as pd\n",
    "import matplotlib.pyplot as plt\n",
    "import plotly\n",
    "import chart_studio.plotly as py\n",
    "import plotly.graph_objects as go\n",
    "import plotly.express as px"
   ]
  },
  {
   "cell_type": "markdown",
   "metadata": {},
   "source": [
    "# II. Gathering/Cleaning the Data"
   ]
  },
  {
   "cell_type": "markdown",
   "metadata": {},
   "source": [
    "I was able to gather the opioid overdose information courtesy of the Centers for Disease Control and Prevention (CDC), the average household income by demographic information from the U.S. Census, and the population by demographic in the United States from the Kaiser Family Foundation (KFF, an American non-profit organization covering health policy analysis). The links to all of this information is below:\n",
    "\n",
    "CDC Opioid Overdose Data (1999-2018):https://www.cdc.gov/nchs/products/databriefs/db356.htm\n",
    "\n",
    "Household Income by Race: https://www.census.gov/data/tables/time-series/demo/income-poverty/historical-income-households.html\n",
    "\n",
    "Population by Demographic in the U.S.: https://www.kff.org/other/state-indicator/distribution-by-raceethnicity/?dataView=1&currentTimeframe=1&selectedRows=%7B%22wrapups%22:%7B%22united-states%22:%7B%7D%7D%7D&sortModel=%7B%22colId%22:%22Location%22,%22sort%22:%22asc%22%7D"
   ]
  },
  {
   "cell_type": "markdown",
   "metadata": {},
   "source": [
    "The rest of this section includes signing into plotly, reading in the data, and finally renaming the column names to match the years of data. One thing to mention, is that the data set that was given was highly formatted and customized and was nearly impossible to read in to a data frame because of the extra customization. So, I had to manually copy and paste all of the cell values into another sheet within the excel with no formatting so that I had just the values to work with."
   ]
  },
  {
   "cell_type": "code",
   "execution_count": null,
   "metadata": {},
   "outputs": [],
   "source": [
    "#sign in to plotly to get various graphs\n",
    "\n",
    "py.sign_in('tristinjohnson', 'jL9mq71V7v3BQQozuWp7')"
   ]
  },
  {
   "cell_type": "code",
   "execution_count": null,
   "metadata": {},
   "outputs": [],
   "source": [
    "#define a list for the column names in the data frame\n",
    "columnNames = ['1999', '2000', '2001', '2002', '2003', '2004', '2005', '2006', '2007', '2008', '2009', '2010', \n",
    "          '2011', '2012', '2013', '2014', '2015', '2016', '2017', '2018']\n",
    "\n",
    "#read in the excel file\n",
    "excel = pd.ExcelFile('Overdose_data_1999-2018.xlsx')\n",
    "\n",
    "#get the specific sheet names from the excel file and convert to a pandas data frame\n",
    "totalOD = pd.read_excel(excel, 'Number Overdose Deaths', index_col=0)\n",
    "youthOD = pd.read_excel(excel, 'Number Drug Overdose (15-24)', index_col=0)\n",
    "demographicOD = pd.read_excel(excel, 'Overdose rate by Demographic', index_col=0)\n",
    "\n",
    "#rename the column names\n",
    "totalOD.columns = columnNames\n",
    "youthOD.columns = columnNames\n",
    "demographicOD.columns = columnNames"
   ]
  },
  {
   "cell_type": "markdown",
   "metadata": {},
   "source": [
    "# III. Opioid Overdose Deaths"
   ]
  },
  {
   "cell_type": "markdown",
   "metadata": {},
   "source": [
    "Part 1:\n",
    "\n",
    "Firstly, I wanted to take a quick look at the total number of deaths due to opioids over the last 20 years, and see if there was a consistent trend among the years."
   ]
  },
  {
   "cell_type": "code",
   "execution_count": null,
   "metadata": {},
   "outputs": [],
   "source": [
    "#plot the total deaths by an opioid overdose in the U.S.\n",
    "fig = px.line(x=columnNames, y=totalOD.iloc[0], title='Total Deaths By An Opioid Overdose In The U.S.')\n",
    "fig.update_layout(xaxis_title='Years', yaxis_title='Number of Deaths')\n",
    "fig.show()"
   ]
  },
  {
   "cell_type": "markdown",
   "metadata": {},
   "source": [
    "Part 2:\n",
    "\n",
    "Next, I wanted to look at the individual opioid overdose deaths by opioid. This would allow a good look at which specific opioids effect the most number of people, and how that opioid has been the cause of an increase or decrease in the number of overdoses. "
   ]
  },
  {
   "cell_type": "code",
   "execution_count": null,
   "metadata": {},
   "outputs": [],
   "source": [
    "#make a new data frame that consists of only the total opioid deaths by opioid and transpose for ease of plotting\n",
    "majorDrugs = totalOD.iloc[[6, 15, 18, 27, 42, 57, 72]]\n",
    "majorDrugs = majorDrugs.transpose()"
   ]
  },
  {
   "cell_type": "code",
   "execution_count": null,
   "metadata": {},
   "outputs": [],
   "source": [
    "#plot the individual opioid deaths to see how they compare against each other over time\n",
    "fig1 = px.line(majorDrugs, x=majorDrugs.index, y=majorDrugs.columns, \n",
    "               title='Different Opioid Overdoses In The U.S.')\n",
    "\n",
    "#style the layout and show the plot\n",
    "fig1.update_layout(autosize=False,\n",
    "                   width=1100,\n",
    "                   height=600, \n",
    "                   xaxis_title='Years',\n",
    "                   yaxis_title='Number of Deaths')\n",
    "\n",
    "#show the range slider for a fixed year interval if needed\n",
    "fig1.update_xaxes(rangeslider_visible=True)\n",
    "fig1.show()"
   ]
  },
  {
   "cell_type": "markdown",
   "metadata": {},
   "source": [
    "Part 3:\n",
    "\n",
    "Next, I wanted to create an interactive experience in which the user can look deeper at individual opioids along with other factors that caused someone to overdose. This allows the user to see whether an overdose was due to just the opioid, or if there was a combination of other opioids, and which opioids are seen the most across the different types. Furthermore, each selection of opioid is the primary cause of overdose. For example, if a user selects Heroin to analyze, all of the figures are due to Heroin being the primary cause of death, but there could have been other opioids found in that person at the time of death. "
   ]
  },
  {
   "cell_type": "code",
   "execution_count": null,
   "metadata": {},
   "outputs": [],
   "source": [
    "#create a copy of the totalOD data frame for a plotting function over time\n",
    "totalTranspose = totalOD.copy()\n",
    "totalTranspose = totalTranspose.transpose()"
   ]
  },
  {
   "cell_type": "code",
   "execution_count": null,
   "metadata": {},
   "outputs": [],
   "source": [
    "#define a function to plot the various factors of cocaine overdose deaths over time in a bar chart\n",
    "#this includes cocaine overdose deaths with/without any other opioid and with/without synthetic narcotics\n",
    "def cocaineGraph():\n",
    "    fig5 = go.Figure(data=[go.Bar(name='Cocaine AND Any Opioid', \n",
    "                              x=totalTranspose.index, \n",
    "                              y=totalTranspose['Cocaine AND Any Opioid']),\n",
    "                      go.Bar(name='Cocaine WITHOUT Any Opioid', \n",
    "                              x=totalTranspose.index,\n",
    "                              y=totalTranspose['Cocaine WITHOUT Any Opioid']),\n",
    "                      go.Bar(name='Cocaine AND Other Synthetic Narcotics',\n",
    "                              x=totalTranspose.index,\n",
    "                              y=totalTranspose['Cocaine AND Other Synthetic Narcotics']),\n",
    "                      go.Bar(name='Cocaine WITHOUT Other Synthetic Narcotics',\n",
    "                              x=totalTranspose.index,\n",
    "                              y=totalTranspose['Cocaine WITHOUT Other Synthetic Narcotics'])])\n",
    "\n",
    "    fig5.update_layout(barmode='stack', \n",
    "                       title='Cocaine With and Without Other Opioids/Synthetic Narcotics',\n",
    "                       xaxis_title='Years', yaxis_title='Number of Deaths', width=1100, height=650)\n",
    "    fig5.show()\n",
    "    \n",
    "#define a function to plot the two factors of prescription drug overdose deaths over time in a bar chart\n",
    "#this includes prescritpion drugs with and without other synthetic narcotics\n",
    "def prescriptionGraph():\n",
    "    fig6 = go.Figure(data=[go.Bar(name='Prescription Opioids AND Other Synthetic Narcotics', \n",
    "                              x=totalTranspose.index, \n",
    "                              y=totalTranspose['Prescription Opioids AND Other Synthetic Narcotics']),\n",
    "                      go.Bar(name='Prescription Opioids WITHOUT Other Synthetic Narcotics', \n",
    "                              x=totalTranspose.index,\n",
    "                              y=totalTranspose['Prescription Opioids WITHOUT Other Synthetic Narcotics '])])\n",
    "\n",
    "    fig6.update_layout(barmode='stack', \n",
    "                       title='Prescription Opioids With and Without Other Synthetic Narcotics',\n",
    "                       xaxis_title='Years', yaxis_title='Number of Deaths', width=1100, height=650)\n",
    "    fig6.show()\n",
    "    \n",
    "#define a function to plot the two factors of heroin overdose deaths over time in a bar chart\n",
    "#this includes heroin with and without other synthetic narcotics\n",
    "def heroinGraph():\n",
    "    fig7 = go.Figure(data=[go.Bar(name='Heroin AND Other Synthetic Narcotics',\n",
    "                                 x=totalTranspose.index,\n",
    "                                 y=totalTranspose['Heroin AND Other Synthetic Narcotics']),\n",
    "                          go.Bar(name='Heroin WITHOUT Other Synthetic Narcotics',\n",
    "                                 x=totalTranspose.index,\n",
    "                                 y=totalTranspose['Heroin WITHOUT Other Synthetic Narcotics'])])\n",
    "    \n",
    "    fig7.update_layout(barmode='stack',\n",
    "                      title='Heroin With and Without Other Synthetic Narcotics',\n",
    "                      xaxis_title='Years', yaxis_title='Number of Deaths', width=1100, height=650)\n",
    "    fig7.show()\n",
    "    \n",
    "#define a function to plot synthetic narcotic overdoes deaths over time in a bar chart\n",
    "#this includes only deaths due to synthetic narcotics\n",
    "def syntheticGraph():\n",
    "    fig8 = go.Figure(data=[go.Bar(name='Synthetic Narcotics',\n",
    "                             x=totalTranspose.index,\n",
    "                             y=totalTranspose['Other Synthetic Narcotics'])])\n",
    "    \n",
    "    fig8.update_layout(barmode='stack',\n",
    "                      title='Other Synthetic Narcotics',\n",
    "                      xaxis_title='Years', yaxis_title='Number of Deaths', width=1000, height=600)\n",
    "    fig8.show()\n",
    "    \n",
    "#define a function to plot psychostimulant overdose deaths over time in a bar chart\n",
    "#this includes various factors such as psychostimulant overdose deaths with/without any other opioid\n",
    "#and with/without synthetic narcotics\n",
    "def psychostimGraph():\n",
    "    fig9 = go.Figure(data=[go.Bar(name='Psychostimulants AND Any Opioid',\n",
    "                                 x=totalTranspose.index,\n",
    "                                 y=totalTranspose['Psychostimulants With Abuse Potential AND Any Opioid']),\n",
    "                          go.Bar(name='Psychostimulants WITHOUT Any Opioid',\n",
    "                                x=totalTranspose.index,\n",
    "                                y=totalTranspose['Psychostimulants With Abuse Potential WITHOUT Any Opioid']),\n",
    "                          go.Bar(name='Psychostimulants AND Other Synthetic Narcotics',\n",
    "                                x=totalTranspose.index,\n",
    "                                y=totalTranspose['Psychostimulants With Abuse Potential AND Other Synthetic Narcotics']),\n",
    "                          go.Bar(name='Psychostimulants WITHOUT Other Synthetic Narcotics',\n",
    "                                x=totalTranspose.index,\n",
    "                                y=totalTranspose['Psychostimulants With Abuse Potential WITHOUT Other Synthetic Narcotics'])])\n",
    "    \n",
    "    fig9.update_layout(barmode='stack',\n",
    "                      title='PsychoStimulants With/Without Other Synthetic Narcotics/Opioids',\n",
    "                      xaxis_title='Years', yaxis_title='Number of Deaths', width=1000, height=600)\n",
    "    fig9.show()\n",
    "    \n",
    "#define a function to plot benzodiazepine overdose deaths over time in a bar chart\n",
    "#this includes factors such as benzos with/without any other opioid and \n",
    "#with/without synthetic narcotics\n",
    "def benzoGraph():\n",
    "    fig10 = go.Figure(data=[go.Bar(name='Benzodiazepines AND Any Opioid',\n",
    "                                 x=totalTranspose.index,\n",
    "                                 y=totalTranspose['Benzodiazepines AND Any Opioid']),\n",
    "                          go.Bar(name='Benzodiazepines WITHOUT Any Opioid',\n",
    "                                x=totalTranspose.index,\n",
    "                                y=totalTranspose['Benzodiazepines WITHOUT Any Opioid']),\n",
    "                          go.Bar(name='Benzodiazepines AND Other Synthetic Narcotics',\n",
    "                                x=totalTranspose.index,\n",
    "                                y=totalTranspose['Benzodiazepines AND Other Synthetic Narcotics']),\n",
    "                          go.Bar(name='Benzodiazepines WITHOUT Other Synthetic Narcotics',\n",
    "                                x=totalTranspose.index,\n",
    "                                y=totalTranspose['Benzodiazepines WITHOUT Other Synthetic Narcotics'])])\n",
    "    \n",
    "    fig10.update_layout(barmode='stack',\n",
    "                       title='Benzodiazepines With/Without Other Synthetic Narcotics/Opioids',\n",
    "                       xaxis_title='Years', yaxis_title='Number of Deaths', width=1000, height=600)\n",
    "    fig10.show()\n",
    "    \n",
    "#define a function to plot antidepressant overdose deaths over time in a bar chart\n",
    "#this includes factors such as antidepressants with/without any other opioid\n",
    "#and with/without synthetic narcotics\n",
    "def antidepressGraph():\n",
    "    fig11 = go.Figure(data=[go.Bar(name='Antidepressants AND Any Opioid',\n",
    "                                 x=totalTranspose.index,\n",
    "                                 y=totalTranspose['Antidepressants AND Any Opioid']),\n",
    "                          go.Bar(name='Antidepressants WITHOUT Any Opioid',\n",
    "                                x=totalTranspose.index,\n",
    "                                y=totalTranspose['Antidepressants WITHOUT Any Opioid']),\n",
    "                          go.Bar(name='Antidepressants AND Other Synthetic Narcotics',\n",
    "                                x=totalTranspose.index,\n",
    "                                y=totalTranspose['Antidepressants AND Other Synthetic Narcotics']),\n",
    "                          go.Bar(name='Antidepressants WITHOUT Other Synthetic Narcotics',\n",
    "                                x=totalTranspose.index,\n",
    "                                y=totalTranspose['Antidepressants WITHOUT Other Synthetic Narcotics'])])\n",
    "    \n",
    "    fig11.update_layout(barmode='stack',\n",
    "                       title='Antidepressants With/Without Other Synthetic Narcotics/Opioids',\n",
    "                       xaxis_title='Years', yaxis_title='Number of Deaths', width=1000, height=600)\n",
    "    fig11.show()\n",
    "    \n",
    "#function to plot the graph corresponding to a users selection\n",
    "def findGraph(user):\n",
    "    if user == '1':\n",
    "        prescriptionGraph()\n",
    "    elif user == '2':\n",
    "        cocaineGraph()\n",
    "    elif user == '3':\n",
    "        heroinGraph()\n",
    "    elif user == '4':\n",
    "        syntheticGraph()\n",
    "    elif user == '5':\n",
    "        psychostimGraph()\n",
    "    elif user == '6':\n",
    "        benzoGraph()\n",
    "    elif user == '7':\n",
    "        antidepressGraph()\n",
    "    else:\n",
    "        return 'q'\n",
    "\n",
    "\n",
    "#function to define a menu for the user to analyze as many graphs as one would like\n",
    "def menu():\n",
    "    print('Please enter the number corresponding to the opioid that you would like to take a closer look at:')\n",
    "    print()\n",
    "    print('1. Prescription Opioids')\n",
    "    print('2. Cocaine')\n",
    "    print('3. Heroin')\n",
    "    print('4. Synthetic Narcotics')\n",
    "    print('5. Psychostimulants')\n",
    "    print('6. Benzodiazepines')\n",
    "    print('7. Antidepressants')\n",
    "    print('q. Quit')\n",
    "    \n",
    "#main function to keep the user in a loop to look at as many graphs, and the loop will not break until\n",
    "#the user enters 'q' to quit the programs\n",
    "def main():\n",
    "    print('Welcome To An Analytical Drug Overdose Experience')\n",
    "    print()\n",
    "    \n",
    "    userInput = ''\n",
    "    while userInput != 'q':\n",
    "        menu()\n",
    "        userInput = input('Enter a number (or q to Quit): ')\n",
    "        response = findGraph(userInput)\n",
    "        if response == 'q':\n",
    "            break"
   ]
  },
  {
   "cell_type": "code",
   "execution_count": null,
   "metadata": {
    "scrolled": false
   },
   "outputs": [],
   "source": [
    "#call main to start the program and then follow the steps for analysis\n",
    "main()"
   ]
  },
  {
   "cell_type": "markdown",
   "metadata": {},
   "source": [
    "# IV. Opioid Overdose by Gender"
   ]
  },
  {
   "cell_type": "markdown",
   "metadata": {},
   "source": [
    "Part 1:\n",
    "\n",
    "Firstly, I wanted to look at the total opioid deaths in male versus female figues. This would give a good idea of which gender is overdosing the most due to opioids, along with the proportion of male to female deaths. "
   ]
  },
  {
   "cell_type": "code",
   "execution_count": null,
   "metadata": {},
   "outputs": [],
   "source": [
    "#import numpy for arrangement of labels\n",
    "import numpy as np\n",
    "\n",
    "#define a width of each bar and arrange the columns based on year\n",
    "width = 0.35\n",
    "x = np.arange(len(totalOD.columns))\n",
    "\n",
    "#use a grouped bar chart to plot the total male vs. female overdose deaths due to opioids\n",
    "fig12, ax = plt.subplots(figsize=(14, 10))\n",
    "rects1 = ax.bar(x-width/2, totalOD.iloc[1], width, label='Women', color='hotpink')\n",
    "rects2 = ax.bar(x+width/2, totalOD.iloc[2], width, label='Men', color='dodgerblue')\n",
    "\n",
    "#customize the graph for visualization\n",
    "ax.set_ylabel('Number of Deaths', fontsize=12)\n",
    "ax.set_title('Total Number of Opioid Overdoses by Gender', fontsize=16)\n",
    "ax.set_xticks(x)\n",
    "ax.set_xticklabels(totalOD.columns)\n",
    "ax.set_xlabel('Year', fontsize=12)\n",
    "ax.legend()\n",
    "plt.show()"
   ]
  },
  {
   "cell_type": "markdown",
   "metadata": {},
   "source": [
    "Part 2:\n",
    "\n",
    "Next, I wanted to create another interactive experience in which a user can select any two opioids on any year, and analyze the differences between the gender figures among those opioids. The user will be able to see the relative number of overdose deaths by male and female, along with the absolute total number of deaths by male and female."
   ]
  },
  {
   "cell_type": "code",
   "execution_count": null,
   "metadata": {},
   "outputs": [],
   "source": [
    "#import subplots from plotly\n",
    "from plotly.subplots import make_subplots\n",
    "\n",
    "#function to compare any two opioids with any year for male vs. female comparison\n",
    "#user recieves two pie charts with a male vs. female in percentage and a bar chart for total comparison\n",
    "#must type in two opioids and a year for analytics\n",
    "def genderAnalysis(opioid1, opioid2, year):\n",
    "    \n",
    "    #define a dictionary for the year the user selects that corresponds to the columns in the data frame\n",
    "    yearDict = {1999:0, 2000:1, 2001:2, 2002:3, 2003:4, 2004:5, 2005:6, 2006:7, 2007:8, 2008:9, \n",
    "                2009:10, 2010:11, 2011:12, 2012:13, 2013:14, 2014:15, 2015:16, 2016:17, 2017:18, 2018:19}\n",
    "    selection = yearDict[year]\n",
    "    \n",
    "    #define a dictionary for the two opioids the user selects that correspond to the rows of the opioids in the data frame\n",
    "    drugDict = {'Prescription Opioids': totalOD.iloc[7:9, selection], 'Synthetic Narcotics': totalOD.iloc[16:18, selection],\n",
    "                'Heroin': totalOD.iloc[19:21, selection], 'Cocaine': totalOD.iloc[28:30, selection], \n",
    "                'Psychostimulants': totalOD.iloc[43:45, selection], 'Benzodiazepines': totalOD.iloc[58:60, selection],\n",
    "                'Antidepressants': totalOD.iloc[73:75, selection]}\n",
    "    drugSelection1 = drugDict[opioid1]\n",
    "    drugSelection2 = drugDict[opioid2]\n",
    "    \n",
    "    #define subplots for plotting pie charts next to each other \n",
    "    fig12 = make_subplots(rows=1, cols=2, specs=[[{'type':'domain'}, {'type': 'domain'}]], \n",
    "                          subplot_titles=[opioid1, opioid2])\n",
    "    \n",
    "    #add trace for both pie subplots on the opioids that the user selects, then customize\n",
    "    fig12.add_trace(go.Pie(labels=totalOD.iloc[1:3].index, values=drugSelection1, name=opioid1,\n",
    "                          marker_colors=['rgb(255,102,255)', 'rgb(51,153,255)']), 1, 1)\n",
    "    fig12.add_trace(go.Pie(labels=totalOD.iloc[1:3].index, values=drugSelection2, name=opioid2), 1, 2)\n",
    "    fig12.update_layout(title_text = opioid1 + ' Vs. ' + opioid2 + ' By Gender In ' + str(year) + ' In Relative Figures')\n",
    "    fig12.show()\n",
    "    \n",
    "    #plot a grouped bar chart for the total male vs. female figures for ease of comparison\n",
    "    fig13 = go.Figure(data=[go.Bar(name=opioid1, x=drugSelection1.index, y=drugSelection1, text=drugSelection1, \n",
    "                                   marker_color='rgb(255,102,255)'),\n",
    "                           go.Bar(name=opioid2, x=drugSelection2.index, y=drugSelection2, text=drugSelection2, \n",
    "                                  marker_color='rgb(51,153,255)')])\n",
    "    \n",
    "    #add total death values at top of each bar and customize for visualization\n",
    "    fig13.update_traces(texttemplate='%{text:.2s}', textposition='outside')\n",
    "    fig13.update_layout(barmode='group',\n",
    "                       title_text = opioid1 + ' Vs. ' + opioid2 + ' By Gender In ' + str(year) + ' In Absolute Figures',\n",
    "                       yaxis_title='Total Number of Deaths')\n",
    "    fig13.show()\n",
    "    "
   ]
  },
  {
   "cell_type": "code",
   "execution_count": null,
   "metadata": {
    "scrolled": false
   },
   "outputs": [],
   "source": [
    "#For analysis, enter two of the following opioid names with any year between 1999-2018:\n",
    "#'Prescription Opioids', 'Synthetic Narcotics', 'Heroin', 'Cocaine'\n",
    "#'Psychostimulants', 'Benzodiazepines', 'Antidepressants'\n",
    "\n",
    "genderAnalysis('Benzodiazepines', 'Psychostimulants', 2010)"
   ]
  },
  {
   "cell_type": "markdown",
   "metadata": {},
   "source": [
    "# V. Opioid Overdose Among The Youth"
   ]
  },
  {
   "cell_type": "markdown",
   "metadata": {},
   "source": [
    "Part 1:\n",
    "\n",
    "I then wanted to take a look at the youth figues (ages 15-24) versus the adult figures (ages 25+), and get a clear idea of how many people among the youth are overdosing due to opioids against adults. "
   ]
  },
  {
   "cell_type": "code",
   "execution_count": null,
   "metadata": {},
   "outputs": [],
   "source": [
    "#fill the NaNs with 0's so that the plotting isn't affected\n",
    "#transpose the data frame for an over time analysis\n",
    "youthOD = youthOD.fillna(0)\n",
    "youthODTrans = youthOD.transpose()"
   ]
  },
  {
   "cell_type": "code",
   "execution_count": null,
   "metadata": {},
   "outputs": [],
   "source": [
    "#plot the youth deaths (15-24) due to opioid overdose versus adults (25+) in a stacked barchart\n",
    "fig14 = go.Figure(data=[go.Bar(name='Ages 24+ Total Overdose Deaths',\n",
    "                                 x=totalTranspose.index,\n",
    "                                 y=totalTranspose['Total Overdose Deaths'] - youthODTrans['Total Overdose Deaths'],\n",
    "                              text=100 - (youthODTrans['Total Overdose Deaths'] / totalTranspose['Total Overdose Deaths']) * 100,\n",
    "                              marker_color='rgb(34,94,168)'),\n",
    "                          go.Bar(name='Ages 15-25 Total Overdose Deaths',\n",
    "                                 x=youthODTrans.index,\n",
    "                                 y=youthODTrans['Total Overdose Deaths'],\n",
    "                                text=(youthODTrans['Total Overdose Deaths'] / totalTranspose['Total Overdose Deaths']) * 100,\n",
    "                                marker_color='rgb(127,205,187)')])\n",
    "\n",
    "#show percentages of each value on the stacked bar\n",
    "fig14.update_traces(texttemplate='%%{text:.2s}', textposition='outside')\n",
    "\n",
    "#customize bar chart for better visualization\n",
    "fig14.update_layout(barmode='stack', width=1150, height=600,\n",
    "                   title='Total Opioid Overdose Deaths Ages 15-24 Vs. Ages 25+',\n",
    "                   xaxis_title='Years',\n",
    "                   yaxis_title='Number of Deaths')\n",
    "fig14.show()"
   ]
  },
  {
   "cell_type": "markdown",
   "metadata": {},
   "source": [
    "# VI. Opioid Overdose By Demographic"
   ]
  },
  {
   "cell_type": "markdown",
   "metadata": {},
   "source": [
    "Part 1:\n",
    "\n",
    "Firstly, I wanted to analyze the rate (per 100,000 population of each demographic) of which each race is overdosing, and see which race has the highest number of deaths per their population. This gives us a good idea of which race is mostly affected by opioids."
   ]
  },
  {
   "cell_type": "code",
   "execution_count": null,
   "metadata": {},
   "outputs": [],
   "source": [
    "#copy of demographic data frame, removed male and female figures, fill the NaNs with 0's\n",
    "#and transpose for an over time analysis\n",
    "demoTotals = demographicOD.copy()\n",
    "demoTotals = demoTotals[demoTotals.index != 'Male']\n",
    "demoTotals = demoTotals[demoTotals.index != 'Female']\n",
    "demoTotals = demoTotals.fillna(0)\n",
    "demoTotals = demoTotals.transpose()"
   ]
  },
  {
   "cell_type": "code",
   "execution_count": null,
   "metadata": {
    "scrolled": false
   },
   "outputs": [],
   "source": [
    "#variable to get the index of the data frame (years)\n",
    "x = demoTotals.index\n",
    "\n",
    "#plot the rate per 100,000 population of each demographic in a scatter plot with lines and markers\n",
    "fig15 = go.Figure()\n",
    "fig15.add_trace(go.Scatter(x=x, y=demoTotals.iloc[:, 1], mode='lines+markers', name='White (Non-Hispanic)'))\n",
    "fig15.add_trace(go.Scatter(x=x, y=demoTotals.iloc[:, 2], mode='lines+markers', name='Black (Non-Hispanic)'))\n",
    "fig15.add_trace(go.Scatter(x=x, y=demoTotals.iloc[:, 3], mode='lines+markers', name='Asian or Pacific Islander (Non-Hispanic)'))\n",
    "fig15.add_trace(go.Scatter(x=x, y=demoTotals.iloc[:, 4], mode='lines+markers', name='Hispanic'))\n",
    "fig15.add_trace(go.Scatter(x=x, y=demoTotals.iloc[:, 5], mode='lines+markers', name='American Indian or Alaska Native (Non-Hispanic)'))\n",
    "\n",
    "#customize the plot for better visualization\n",
    "fig15.update_layout(title='Rate of Total Opioid Deaths By Demographic', width=1150, height=650,\n",
    "                   xaxis_title='Years', yaxis_title='Rate (per 100,000 population)')\n",
    "fig15.show()"
   ]
  },
  {
   "cell_type": "markdown",
   "metadata": {},
   "source": [
    "Part 2:\n",
    "\n",
    "Next, I wanted to compare the total overdose deaths by demographic against the average household income by demographic in the most recent 11 years (2008-2018). This is to see if there was any correlation between the average income and the number of overdose deaths by each race. The data that I received for the household income by each demographic was seperated into each fifth of class, meaning the income of the lower 20%, the income between 20%-40%, and so on. Therefore, I manually found the average income among all the different class levels, which gave me the total average each year by each demographic. "
   ]
  },
  {
   "cell_type": "code",
   "execution_count": null,
   "metadata": {},
   "outputs": [],
   "source": [
    "#create a copy of the demographic data frame, and only include the most recent 11 years of data\n",
    "demo = demoTotals.copy()\n",
    "demo = demo.iloc[9:]\n",
    "\n",
    "#get only the columns needed for plotting of demographic figures\n",
    "newDemo = demo.copy()\n",
    "newDemo = newDemo.iloc[:, 42:]\n",
    "newDemo = newDemo.rename_axis('Year', axis='columns')\n",
    "\n",
    "#read in excel file including the mean income recieved by each race\n",
    "excel1 = pd.ExcelFile('Mean Income Recieved by Each Fifth and Top 5 Percent.xlsx')\n",
    "income = pd.read_excel(excel1, 'average totals', index_col=0)\n",
    "\n",
    "#merge the demographic opioid overdose data frame with the mean income data frame\n",
    "demoIncome = pd.merge(newDemo, income, on=[newDemo.index, income.index])"
   ]
  },
  {
   "cell_type": "code",
   "execution_count": null,
   "metadata": {},
   "outputs": [],
   "source": [
    "#create dict for the size of each marker on plot and the color for consistency throughout plotting\n",
    "prescriptionColor = dict(size=12, color='rgb(0,152,255)')\n",
    "syntheticColor = dict(size=12, color='rgb(239,59,44)')\n",
    "psychoColor = dict(size=12, color='rgb(65,171,93)')\n",
    "cocaineColor = dict(size=12, color='rgb(128,125,186)')\n",
    "heroinColor = dict(size=12, color='rgb(241,105,19)')\n",
    "\n",
    "#set the mode to lines and markers to better see the trend\n",
    "mode='lines+markers'\n",
    "\n",
    "#store the average income of each race as a variable for ease of plotting\n",
    "avgWhite = demoIncome['Average White Income']\n",
    "avgBlack = demoIncome['Average Black Income']\n",
    "avgHispanic = demoIncome['Average Hispanic Income']\n",
    "avgAsian = demoIncome['Average Asian Income']\n",
    "avgIndian = demoIncome['Average Indian Income']\n",
    "\n",
    "#create a function to plot the opioid overdose of each race against the average household income of each\n",
    "#race. This will plot any race and plot each opioid against the average house income from 2008-2018. \n",
    "#The user has the ability to view multiple races or just one and must enter\n",
    "#the race the user wants to analyze\n",
    "def raceVsIncome(race):\n",
    "    \n",
    "    #create dictionaries based on the race that the user selects in order for the plot \n",
    "    #to grab the correct column data from the data frame. Whichever race the user enters, that selected\n",
    "    #dictionary will be used to plot based on the given race\n",
    "    if race == 'White':\n",
    "        columnDict = {'x':avgWhite, 'y1':demoIncome['Total-White-Prescription'], \n",
    "                      'y2':demoIncome['Total-White-synthetic'],'y3':demoIncome['Total-White-psycho'], \n",
    "                      'y4':demoIncome['Total-White-cocaine'], 'y5':demoIncome['Total-White-heroin']}\n",
    "        \n",
    "    elif race == 'Black':\n",
    "        columnDict = {'x':avgBlack, 'y1':demoIncome['Total-Black-Prescritpion'], \n",
    "                      'y2':demoIncome['Total-Black-synthetic'],'y3':demoIncome['Total-Black-psycho'], \n",
    "                      'y4':demoIncome['Total-Black-cocaine'], 'y5':demoIncome['Total-Black-heroin']}\n",
    "        \n",
    "    elif race == 'Hispanic':\n",
    "        columnDict = {'x':avgHispanic, 'y1':demoIncome['Total-Hispanic-Prescription'], \n",
    "                      'y2':demoIncome['Total-Hispanic-synthetic'],'y3':demoIncome['Total-Hispanic-psycho'], \n",
    "                      'y4':demoIncome['Total-Hispanic-cocaine'], 'y5':demoIncome['Total-Hispanic-heroin']}\n",
    "        \n",
    "    elif race == 'Asian or Pacific Islander':\n",
    "        columnDict = {'x':avgAsian, 'y1':demoIncome['Total-Asian-Prescription'], \n",
    "                      'y2':demoIncome['Total-Asian-synthetic'],'y3':demoIncome['Total-Asian-psycho'], \n",
    "                      'y4':demoIncome['Total-Asian-cocaine'], 'y5':demoIncome['Total-Asian-heroin']}\n",
    "        \n",
    "    elif race == 'American Indian or Alaska Native':\n",
    "        columnDict = {'x':avgIndian, 'y1':demoIncome['Total-Indian-Prescription'], \n",
    "                      'y2':demoIncome['Total-Indian-synthetic'],'y3':demoIncome['Total-Indian-psycho'], \n",
    "                      'y4':demoIncome['Total-Indian-cocaine'], 'y5':demoIncome['Total-Indian-heroin']}\n",
    "    \n",
    "    #plot the selected demographic from the above dictionary that the user selected with the 5 different\n",
    "    #opioids against the average household income\n",
    "    fig16 = go.Figure(data=[go.Scatter(name='Prescription Drugs', x=columnDict['x'], y=columnDict['y1'], \n",
    "                                       mode=mode, marker=prescriptionColor),\n",
    "                           go.Scatter(name='Synthetic Narcotics', x=columnDict['x'], y=columnDict['y2'], \n",
    "                                      mode=mode, marker=syntheticColor),\n",
    "                           go.Scatter(name='Psychostimulants', x=columnDict['x'], y=columnDict['y3'], \n",
    "                                      mode=mode, marker=psychoColor),\n",
    "                           go.Scatter(name='Cocaine', x=columnDict['x'], y=columnDict['y4'], \n",
    "                                      mode=mode, marker=cocaineColor),\n",
    "                           go.Scatter(name='Heroin', x=columnDict['x'], y=columnDict['y5'], \n",
    "                                      mode=mode, marker=heroinColor)])\n",
    "    \n",
    "    #customze the graph for better visualization\n",
    "    fig16.update_layout(title='Opioid Overdose Vs. Average Household Income Among ' + race + ' Ethnicity (2008 - 2018)',\n",
    "                        xaxis_title='Median Household Income ($USD)', yaxis_title='Number of Deaths', \n",
    "                        height=575, width=1000)\n",
    "    \n",
    "    fig16.show()"
   ]
  },
  {
   "cell_type": "code",
   "execution_count": null,
   "metadata": {
    "scrolled": false
   },
   "outputs": [],
   "source": [
    "#call the function to view an individual race, multiple races, or all races against each races average \n",
    "#household income. The user can either uncomment the function calls below, or enter any of the following:\n",
    "#'White', 'Black', 'Hispanic', 'Asian or Pacific Islander', 'American Indian or Alaska Native'\n",
    "\n",
    "raceVsIncome('White')\n",
    "raceVsIncome('Black')\n",
    "raceVsIncome('Hispanic')\n",
    "raceVsIncome('Asian or Pacific Islander')\n",
    "raceVsIncome('American Indian or Alaska Native')"
   ]
  },
  {
   "cell_type": "markdown",
   "metadata": {},
   "source": [
    "# VII. Future Predictions"
   ]
  },
  {
   "cell_type": "markdown",
   "metadata": {},
   "source": [
    "While a majority of the data over the 20 year period has the number of overdose deaths due to opioids as increasing, there is a consistent decline from 2017 to 2018. This could be due to the fact that the awareness and negative effects opioids have become increasingly popular, meaning we can clearly see more and more people are overdosing on opioids, and hopefully this death count will begin to decline in the upcoming years. \n",
    "\n",
    "Among the youth, I believe that the youth figures will decrease over the next couple of years. This could be because, there have been a lot of youth celebrities overdosing on opioids in the last 2 years and has put young people on alert as they are becoming more afraid to try these opioids because of the high possibility they overdose. \n",
    "\n",
    "Regarding the gender figures, I believe that the gap between male and female overdoses will continue to grow as there are no signs of that gap decreasing. \n",
    "\n",
    "Furthermore, the demographics begin to tell a slightly more difficult story. There are very few declines in the rate of overdoses by race, which means there could be more deaths to come, especially with the sharp rise among Black and American Indian ethnicity groups. Also, looking at the average income against the total opioid overdoses by demographic, there is a clear correlation among the increase in salary and the increase in opioid deaths. This could be because since income has increased over the years, and since opioids are relatively expensive, people have the money to buy these opioids which then leads to more overdoses. "
   ]
  },
  {
   "cell_type": "markdown",
   "metadata": {},
   "source": [
    "# VIII. Conclusion"
   ]
  },
  {
   "cell_type": "markdown",
   "metadata": {},
   "source": [
    "With the functions and interactive experiences above, there are multiple different comparisons and analysis that can be conducted to begin to draw some conclusions about the opioid epidemic. The one opioid that stood out the most was synthetic narcotics (fentanyl and tramadol), which has been on the rise since 2014, and could be due to the fact that a lot of these opioids have been laced with synthetic narcotics as it only takes a small amount for someone to overdose. \n",
    "\n",
    "Overall, I learned a lot of information regarding the opioid epidemic here in the United States, and it has definitely made me more aware of the various factors that make up this epidemic. Looking at the total figures, the gender figures, the youth figures, and the demographic figures, it has most certainly opened my eyes to the epidemic and made me realize a lot of different things. It is a sad thing to see that a majority of these figures have just been increasing year after year. The only decline in overdose deaths was from 2017 to 2018 (the last year of data), which gives me some hope in our future to abolish this opioid epidemic. "
   ]
  },
  {
   "cell_type": "markdown",
   "metadata": {},
   "source": [
    "# IX. Learning Processes"
   ]
  },
  {
   "cell_type": "markdown",
   "metadata": {},
   "source": [
    "Throughout this project, I learned a lot about the different techniques and libraries within Python in order to give a clear analysis of various factors along with using Python to help clean up the data and the ease of managing these data sets for a better understanding of what the data means. I also used Plotly a lot for plotting these functions, and it was fun to play around with the different methods and libraries within Plotly. \n",
    "\n",
    "For the future, I would like to apply certain statistical analysis to these graphs to get a good idea of any future predictions that might occur in the upcoming years among the multiple analytics. "
   ]
  },
  {
   "cell_type": "code",
   "execution_count": null,
   "metadata": {},
   "outputs": [],
   "source": []
  }
 ],
 "metadata": {
  "kernelspec": {
   "display_name": "Python 3",
   "language": "python",
   "name": "python3"
  },
  "language_info": {
   "codemirror_mode": {
    "name": "ipython",
    "version": 3
   },
   "file_extension": ".py",
   "mimetype": "text/x-python",
   "name": "python",
   "nbconvert_exporter": "python",
   "pygments_lexer": "ipython3",
   "version": "3.8.3"
  }
 },
 "nbformat": 4,
 "nbformat_minor": 4
}
